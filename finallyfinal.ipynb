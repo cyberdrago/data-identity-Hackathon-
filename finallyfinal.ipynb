{
 "cells": [
  {
   "cell_type": "code",
   "execution_count": 36,
   "metadata": {
    "collapsed": true
   },
   "outputs": [],
   "source": [
    "# importing required libraries\n",
    "import pandas as pd\n",
    "import numpy as np\n",
    "import math\n",
    "\n",
    "#loading test and train data\n",
    "testing= pd.read_csv('new_test.csv')\n",
    "training = pd.read_csv('new_train.csv')\n"
   ]
  },
  {
   "cell_type": "markdown",
   "metadata": {},
   "source": [
    "# finding proper values for missing trainee_engagement_rating"
   ]
  },
  {
   "cell_type": "code",
   "execution_count": 37,
   "metadata": {
    "collapsed": true
   },
   "outputs": [],
   "source": [
    "# for train\n",
    "group_train = training.iloc[:].groupby(['gender','program_type'])\n",
    "grouped_median_train = group_train.median()\n",
    "grouped_median_train = grouped_median_train.reset_index()[['gender','program_type','trainee_engagement_rating']]"
   ]
  },
  {
   "cell_type": "code",
   "execution_count": 38,
   "metadata": {
    "collapsed": true
   },
   "outputs": [],
   "source": [
    "# for train\n",
    "def fill_age(row):\n",
    "    condition = (\n",
    "        (grouped_median_train['gender'] == row['gender']) & \n",
    "        (grouped_median_train['program_type'] == row['program_type'])  \n",
    "    #  &  (grouped_median_train['city_tier'] == row['city_tier'])\n",
    "    ) \n",
    "    return grouped_median_train[condition]['trainee_engagement_rating'].values[0]\n",
    "\n",
    "\n",
    "def process_age():\n",
    "    global training\n",
    "    # a function that fills the missing values of the Age variable\n",
    "    training['Trainee_engagement_rating'] = training.apply(lambda row: fill_age(row) if np.isnan(row['trainee_engagement_rating']) else row['trainee_engagement_rating'], axis=1)\n",
    "    \n",
    "    return training"
   ]
  },
  {
   "cell_type": "code",
   "execution_count": 39,
   "metadata": {
    "collapsed": true
   },
   "outputs": [],
   "source": [
    "# for test\n",
    "def fill_test_age(row):\n",
    "    condition = (\n",
    "        (grouped_median_train['gender'] == row['gender']) & \n",
    "        (grouped_median_train['program_type'] == row['program_type'])  \n",
    "    #  &  (grouped_median_train['city_tier'] == row['city_tier'])\n",
    "    ) \n",
    "    return grouped_median_train[condition]['trainee_engagement_rating'].values[0]\n",
    "\n",
    "\n",
    "def process_test_age():\n",
    "    global training\n",
    "    # a function that fills the missing values of the Age variable\n",
    "    testing['Trainee_engagement_rating'] = testing.apply(lambda row: fill_test_age(row) if np.isnan(row['trainee_engagement_rating']) else row['trainee_engagement_rating'], axis=1)\n",
    "    \n",
    "    return testing"
   ]
  },
  {
   "cell_type": "code",
   "execution_count": 40,
   "metadata": {
    "collapsed": true
   },
   "outputs": [],
   "source": [
    "# function calling for train data\n",
    "training = process_age()"
   ]
  },
  {
   "cell_type": "code",
   "execution_count": 41,
   "metadata": {
    "collapsed": true
   },
   "outputs": [],
   "source": [
    "# Function call for test data\n",
    "testing = process_test_age()"
   ]
  },
  {
   "cell_type": "code",
   "execution_count": 42,
   "metadata": {
    "collapsed": true
   },
   "outputs": [],
   "source": [
    "# creating a feature age_bool, it tells if age is missing or not\n",
    "# if age is missing then it is probably a girl\n",
    "#real_train['age_bool']=real_train.age.isnull()\n",
    "#testsa['age_bool']=testsa.age.isnull()\n",
    "\n",
    "# filling missing values of age and trainee_engagement_rating of train and test sets\n",
    "#real_train['age'].fillna((real_train['age'].median()), inplace=True)\n",
    "#training['trainee_engagement_rating'].fillna(1, inplace=True)\n",
    "#testsa['age'].fillna((testsa['age'].median()), inplace=True)\n",
    "#testing['trainee_engagement_rating'].fillna(1, inplace=True)\n",
    "\n",
    "\n",
    "\n",
    "training['Trainee_engagement_rating']=training.Trainee_engagement_rating.astype(int)\n",
    "testing['Trainee_engagement_rating']=testing.Trainee_engagement_rating.astype(int)"
   ]
  },
  {
   "cell_type": "markdown",
   "metadata": {},
   "source": [
    "# doing same for age tooo..."
   ]
  },
  {
   "cell_type": "code",
   "execution_count": 43,
   "metadata": {},
   "outputs": [
    {
     "name": "stderr",
     "output_type": "stream",
     "text": [
      "/home/abhiraj/anaconda2/lib/python2.7/site-packages/ipykernel_launcher.py:11: SettingWithCopyWarning: \n",
      "A value is trying to be set on a copy of a slice from a DataFrame\n",
      "\n",
      "See the caveats in the documentation: http://pandas.pydata.org/pandas-docs/stable/indexing.html#indexing-view-versus-copy\n",
      "  # This is added back by InteractiveShellApp.init_path()\n",
      "/home/abhiraj/anaconda2/lib/python2.7/site-packages/ipykernel_launcher.py:12: SettingWithCopyWarning: \n",
      "A value is trying to be set on a copy of a slice from a DataFrame\n",
      "\n",
      "See the caveats in the documentation: http://pandas.pydata.org/pandas-docs/stable/indexing.html#indexing-view-versus-copy\n",
      "  if sys.path[0] == '':\n",
      "/home/abhiraj/anaconda2/lib/python2.7/site-packages/ipykernel_launcher.py:13: SettingWithCopyWarning: \n",
      "A value is trying to be set on a copy of a slice from a DataFrame\n",
      "\n",
      "See the caveats in the documentation: http://pandas.pydata.org/pandas-docs/stable/indexing.html#indexing-view-versus-copy\n",
      "  del sys.path[0]\n"
     ]
    }
   ],
   "source": [
    "# finding median age for each group made depending upon gender, education and city_tier \n",
    "# Done to fill nan values in a better way\n",
    "\n",
    "# for train\n",
    "grouped_train = training.iloc[:].groupby(['Trainee_engagement_rating','education','city_tier'])\n",
    "grouped_median_train = grouped_train.mean()\n",
    "grouped_median_train = grouped_median_train.reset_index()[['Trainee_engagement_rating','education','city_tier', 'age']]\n",
    "\n",
    "# since its median was nan, so 33 is the median taken from the test data for that group\n",
    "grouped_median_train['age'][34]=37\n",
    "grouped_median_train['age'][53]=32\n",
    "grouped_median_train['age'][56]=32\n",
    "grouped_median_train['age'][72]=34\n",
    "# for test\n",
    "#grouped_test = testing.iloc[:].groupby(['Trainee_engagement_rating','education','city_tier'])\n",
    "#grouped_median_test = grouped_test.median()\n",
    "#grouped_median_test = grouped_median_test.reset_index()[['Trainee_engagement_rating','education','city_tier', 'age']]\n",
    "\n"
   ]
  },
  {
   "cell_type": "code",
   "execution_count": 44,
   "metadata": {
    "collapsed": true
   },
   "outputs": [],
   "source": [
    "# for train\n",
    "def fill_age(row):\n",
    "    condition = (\n",
    "        (grouped_median_train['Trainee_engagement_rating'] == row['Trainee_engagement_rating']) & \n",
    "        (grouped_median_train['city_tier'] == row['city_tier'])  \n",
    "      &  (grouped_median_train['education'] == row['education'])\n",
    "    ) \n",
    "    return grouped_median_train[condition]['age'].values[0]\n",
    "\n",
    "\n",
    "def process_age():\n",
    "    global training\n",
    "    # a function that fills the missing values of the Age variable\n",
    "    training['Age'] = training.apply(lambda row: fill_age(row) if np.isnan(row['age']) else row['age'], axis=1)\n",
    "    \n",
    "    return training"
   ]
  },
  {
   "cell_type": "code",
   "execution_count": 45,
   "metadata": {
    "collapsed": true
   },
   "outputs": [],
   "source": [
    "# for test\n",
    "def fill_test_age(row):\n",
    "    condition = (\n",
    "        (grouped_median_train['Trainee_engagement_rating'] == row['Trainee_engagement_rating']) & \n",
    "        (grouped_median_train['city_tier'] == row['city_tier']) &\n",
    "         (grouped_median_train['education'] == row['education'])\n",
    "    ) \n",
    "    return grouped_median_train[condition]['age'].values[0]\n",
    "\n",
    "\n",
    "def process_test_age():\n",
    "    global testing\n",
    "    # a function that fills the missing values of the Age variable\n",
    "    testing['Age'] = testing.apply(lambda row: fill_test_age(row) if np.isnan(row['age']) else row['age'], axis=1)\n",
    "    \n",
    "    return testing"
   ]
  },
  {
   "cell_type": "code",
   "execution_count": 46,
   "metadata": {},
   "outputs": [],
   "source": [
    "# function calling for train data\n",
    "real_train = process_age()"
   ]
  },
  {
   "cell_type": "code",
   "execution_count": 47,
   "metadata": {},
   "outputs": [],
   "source": [
    "# Function call for test data\n",
    "testsa = process_test_age()"
   ]
  },
  {
   "cell_type": "code",
   "execution_count": 48,
   "metadata": {
    "collapsed": true
   },
   "outputs": [],
   "source": [
    "# asserting filled missing values and integers\n",
    "real_train['Age']=real_train.Age.astype(int)\n",
    "\n",
    "\n",
    "testsa['Age']=testsa.Age.astype(int)"
   ]
  },
  {
   "cell_type": "markdown",
   "metadata": {},
   "source": [
    "## check if I can remove this part"
   ]
  },
  {
   "cell_type": "code",
   "execution_count": 49,
   "metadata": {},
   "outputs": [],
   "source": [
    "# giving numeric values to difficulty levels\n",
    "# it is based on the graph drawn b/w difficulty level and is_pass, the difference in the heights of the bars\n",
    "# were taken into account to determine the values for each class\n",
    "new_level = {\"difficulty_level\":     {\"easy\": 1, \"intermediate\": 4,\"hard\": 3, \"vary hard\":6 }}\n",
    "\n",
    "# replace these values in train and test set\n",
    "real_train.replace(new_level, inplace=True)\n",
    "testsa.replace(new_level,inplace=True)"
   ]
  },
  {
   "cell_type": "code",
   "execution_count": 50,
   "metadata": {
    "collapsed": true
   },
   "outputs": [],
   "source": [
    "newnew={\"education\": {\"Matriculation\":2,\"No Qualification\":1,\"High School Diploma\":3,\"Bachelors\":4,\"Masters\":5}}\n",
    "# replace these values in train and test set\n",
    "real_train.replace(newnew, inplace=True)\n",
    "testsa.replace(newnew,inplace=True)"
   ]
  },
  {
   "cell_type": "markdown",
   "metadata": {},
   "source": [
    "# remove useless ids.."
   ]
  },
  {
   "cell_type": "code",
   "execution_count": 51,
   "metadata": {
    "collapsed": true
   },
   "outputs": [],
   "source": [
    "# drop ids from train and test sets\n",
    "real_train=real_train.drop(['id','age','trainee_engagement_rating'],axis=1)\n",
    "test=testsa.drop(['id','age','trainee_engagement_rating'],axis=1)"
   ]
  },
  {
   "cell_type": "markdown",
   "metadata": {},
   "source": [
    "# label encoding"
   ]
  },
  {
   "cell_type": "code",
   "execution_count": 52,
   "metadata": {
    "collapsed": true
   },
   "outputs": [],
   "source": [
    "# label encoding for train set\n",
    "#programmed_dummies=pd.get_dummies(real_train.program_id, prefix=\"programmed\",drop_first=True)\n",
    "#real_train= pd.concat([real_train,programmed_dummies],axis=1)\n",
    "programme_dummies=pd.get_dummies(real_train.program_type, prefix=\"type\",drop_first=True)\n",
    "real_train= pd.concat([real_train,programme_dummies],axis=1)\n",
    "programm_dummies=pd.get_dummies(real_train.test_type, prefix=\"type\",drop_first=True)\n",
    "real_train= pd.concat([real_train,programm_dummies],axis=1)\n",
    "#program_dummies=pd.get_dummies(real_train.difficulty_level, prefix=\"level\",drop_first=True)\n",
    "#real_train= pd.concat([real_train,program_dummies],axis=1)\n",
    "progra_dummies=pd.get_dummies(real_train.gender, prefix=\"level\",drop_first=True)\n",
    "real_train= pd.concat([real_train,progra_dummies],axis=1)\n",
    "#progr_dummies=pd.get_dummies(real_train.education, prefix=\"level\",drop_first=True)\n",
    "#real_train= pd.concat([real_train,progr_dummies],axis=1)\n",
    "prog_dummies=pd.get_dummies(real_train.is_handicapped, prefix=\"handicap\",drop_first=True)\n",
    "real_train= pd.concat([real_train,prog_dummies],axis=1)\n",
    "#pro_dummies=pd.get_dummies(real_train.age_bool, prefix=\"bool_age\",drop_first=True)\n",
    "#real_train= pd.concat([real_train,pro_dummies],axis=1)\n",
    "train=real_train.drop(['program_type','program_id','test_type','gender','is_handicapped'],axis=1)"
   ]
  },
  {
   "cell_type": "code",
   "execution_count": 53,
   "metadata": {
    "collapsed": true
   },
   "outputs": [],
   "source": [
    "# label encoding for test set\n",
    "#programmed_dummies=pd.get_dummies(test.program_id, prefix=\"programmed\",drop_first=True)\n",
    "#test= pd.concat([test,programmed_dummies],axis=1)\n",
    "programme_dummies=pd.get_dummies(test.program_type, prefix=\"type\",drop_first=True)\n",
    "test= pd.concat([test,programme_dummies],axis=1)\n",
    "programm_dummies=pd.get_dummies(test.test_type, prefix=\"type\",drop_first=True)\n",
    "test= pd.concat([test,programm_dummies],axis=1)\n",
    "#program_dummies=pd.get_dummies(test.difficulty_level, prefix=\"level\",drop_first=True)\n",
    "#test= pd.concat([test,program_dummies],axis=1)\n",
    "progra_dummies=pd.get_dummies(test.gender, prefix=\"level\",drop_first=True)\n",
    "test= pd.concat([test,progra_dummies],axis=1)\n",
    "#progr_dummies=pd.get_dummies(test.education, prefix=\"level\",drop_first=True)\n",
    "#test= pd.concat([test,progr_dummies],axis=1)\n",
    "prog_dummies=pd.get_dummies(test.is_handicapped, prefix=\"handicap\",drop_first=True)\n",
    "test= pd.concat([test,prog_dummies],axis=1)\n",
    "#pro_dummies=pd.get_dummies(test.age_bool, prefix=\"bool_age\",drop_first=True)\n",
    "#test= pd.concat([test,pro_dummies],axis=1)\n",
    "tests=test.drop(['program_type','program_id','test_type','gender','is_handicapped'],axis=1)"
   ]
  },
  {
   "cell_type": "code",
   "execution_count": 54,
   "metadata": {},
   "outputs": [
    {
     "data": {
      "text/html": [
       "<div>\n",
       "<style>\n",
       "    .dataframe thead tr:only-child th {\n",
       "        text-align: right;\n",
       "    }\n",
       "\n",
       "    .dataframe thead th {\n",
       "        text-align: left;\n",
       "    }\n",
       "\n",
       "    .dataframe tbody tr th {\n",
       "        vertical-align: top;\n",
       "    }\n",
       "</style>\n",
       "<table border=\"1\" class=\"dataframe\">\n",
       "  <thead>\n",
       "    <tr style=\"text-align: right;\">\n",
       "      <th></th>\n",
       "      <th>program_duration</th>\n",
       "      <th>test_id</th>\n",
       "      <th>difficulty_level</th>\n",
       "      <th>trainee_id</th>\n",
       "      <th>education</th>\n",
       "      <th>city_tier</th>\n",
       "      <th>total_programs_enrolled</th>\n",
       "      <th>is_pass</th>\n",
       "      <th>Trainee_engagement_rating</th>\n",
       "      <th>Age</th>\n",
       "      <th>type_T</th>\n",
       "      <th>type_U</th>\n",
       "      <th>type_V</th>\n",
       "      <th>type_X</th>\n",
       "      <th>type_Y</th>\n",
       "      <th>type_Z</th>\n",
       "      <th>type_online</th>\n",
       "      <th>level_M</th>\n",
       "      <th>handicap_Y</th>\n",
       "    </tr>\n",
       "  </thead>\n",
       "  <tbody>\n",
       "    <tr>\n",
       "      <th>0</th>\n",
       "      <td>136</td>\n",
       "      <td>150</td>\n",
       "      <td>4</td>\n",
       "      <td>9389</td>\n",
       "      <td>2</td>\n",
       "      <td>3</td>\n",
       "      <td>5</td>\n",
       "      <td>0</td>\n",
       "      <td>1</td>\n",
       "      <td>24</td>\n",
       "      <td>0</td>\n",
       "      <td>0</td>\n",
       "      <td>0</td>\n",
       "      <td>0</td>\n",
       "      <td>1</td>\n",
       "      <td>0</td>\n",
       "      <td>0</td>\n",
       "      <td>1</td>\n",
       "      <td>0</td>\n",
       "    </tr>\n",
       "    <tr>\n",
       "      <th>1</th>\n",
       "      <td>131</td>\n",
       "      <td>44</td>\n",
       "      <td>1</td>\n",
       "      <td>16523</td>\n",
       "      <td>3</td>\n",
       "      <td>4</td>\n",
       "      <td>2</td>\n",
       "      <td>1</td>\n",
       "      <td>3</td>\n",
       "      <td>26</td>\n",
       "      <td>1</td>\n",
       "      <td>0</td>\n",
       "      <td>0</td>\n",
       "      <td>0</td>\n",
       "      <td>0</td>\n",
       "      <td>0</td>\n",
       "      <td>0</td>\n",
       "      <td>0</td>\n",
       "      <td>0</td>\n",
       "    </tr>\n",
       "    <tr>\n",
       "      <th>2</th>\n",
       "      <td>120</td>\n",
       "      <td>178</td>\n",
       "      <td>1</td>\n",
       "      <td>13987</td>\n",
       "      <td>2</td>\n",
       "      <td>1</td>\n",
       "      <td>1</td>\n",
       "      <td>1</td>\n",
       "      <td>2</td>\n",
       "      <td>40</td>\n",
       "      <td>0</td>\n",
       "      <td>0</td>\n",
       "      <td>0</td>\n",
       "      <td>0</td>\n",
       "      <td>0</td>\n",
       "      <td>1</td>\n",
       "      <td>1</td>\n",
       "      <td>1</td>\n",
       "      <td>0</td>\n",
       "    </tr>\n",
       "    <tr>\n",
       "      <th>3</th>\n",
       "      <td>117</td>\n",
       "      <td>32</td>\n",
       "      <td>1</td>\n",
       "      <td>13158</td>\n",
       "      <td>2</td>\n",
       "      <td>3</td>\n",
       "      <td>4</td>\n",
       "      <td>1</td>\n",
       "      <td>1</td>\n",
       "      <td>34</td>\n",
       "      <td>1</td>\n",
       "      <td>0</td>\n",
       "      <td>0</td>\n",
       "      <td>0</td>\n",
       "      <td>0</td>\n",
       "      <td>0</td>\n",
       "      <td>0</td>\n",
       "      <td>0</td>\n",
       "      <td>0</td>\n",
       "    </tr>\n",
       "    <tr>\n",
       "      <th>4</th>\n",
       "      <td>131</td>\n",
       "      <td>84</td>\n",
       "      <td>4</td>\n",
       "      <td>10591</td>\n",
       "      <td>3</td>\n",
       "      <td>1</td>\n",
       "      <td>2</td>\n",
       "      <td>1</td>\n",
       "      <td>4</td>\n",
       "      <td>42</td>\n",
       "      <td>0</td>\n",
       "      <td>0</td>\n",
       "      <td>1</td>\n",
       "      <td>0</td>\n",
       "      <td>0</td>\n",
       "      <td>0</td>\n",
       "      <td>0</td>\n",
       "      <td>0</td>\n",
       "      <td>0</td>\n",
       "    </tr>\n",
       "  </tbody>\n",
       "</table>\n",
       "</div>"
      ],
      "text/plain": [
       "   program_duration  test_id  difficulty_level  trainee_id  education  \\\n",
       "0               136      150                 4        9389          2   \n",
       "1               131       44                 1       16523          3   \n",
       "2               120      178                 1       13987          2   \n",
       "3               117       32                 1       13158          2   \n",
       "4               131       84                 4       10591          3   \n",
       "\n",
       "   city_tier  total_programs_enrolled  is_pass  Trainee_engagement_rating  \\\n",
       "0          3                        5        0                          1   \n",
       "1          4                        2        1                          3   \n",
       "2          1                        1        1                          2   \n",
       "3          3                        4        1                          1   \n",
       "4          1                        2        1                          4   \n",
       "\n",
       "   Age  type_T  type_U  type_V  type_X  type_Y  type_Z  type_online  level_M  \\\n",
       "0   24       0       0       0       0       1       0            0        1   \n",
       "1   26       1       0       0       0       0       0            0        0   \n",
       "2   40       0       0       0       0       0       1            1        1   \n",
       "3   34       1       0       0       0       0       0            0        0   \n",
       "4   42       0       0       1       0       0       0            0        0   \n",
       "\n",
       "   handicap_Y  \n",
       "0           0  \n",
       "1           0  \n",
       "2           0  \n",
       "3           0  \n",
       "4           0  "
      ]
     },
     "execution_count": 54,
     "metadata": {},
     "output_type": "execute_result"
    }
   ],
   "source": [
    "train.head()"
   ]
  },
  {
   "cell_type": "markdown",
   "metadata": {},
   "source": [
    "# splitting train into two.."
   ]
  },
  {
   "cell_type": "code",
   "execution_count": 55,
   "metadata": {
    "collapsed": true
   },
   "outputs": [],
   "source": [
    "# dividing train data into dependent and independent variables\n",
    "train_ys = train['is_pass']\n",
    "train_X = train.drop(['is_pass'],axis=1)"
   ]
  },
  {
   "cell_type": "code",
   "execution_count": 56,
   "metadata": {},
   "outputs": [],
   "source": [
    "# normalize skewed features\n",
    "for feature in train_X:\n",
    "    if train_X[feature].dtype != \"object\":\n",
    "        #display_distrib(all_data, feature)\n",
    "        train_X[feature] = np.log1p(train_X[feature])\n",
    "                #display_distrib(all_data, feature)"
   ]
  },
  {
   "cell_type": "code",
   "execution_count": 57,
   "metadata": {
    "collapsed": true
   },
   "outputs": [],
   "source": [
    "# normalize skewed features\n",
    "for feature in tests:\n",
    "    if tests[feature].dtype != \"object\":\n",
    "        #display_distrib(all_data, feature)\n",
    "        tests[feature] = np.log1p(tests[feature])\n",
    "                #display_distrib(all_data, feature)"
   ]
  },
  {
   "cell_type": "code",
   "execution_count": 58,
   "metadata": {},
   "outputs": [
    {
     "data": {
      "text/html": [
       "<div>\n",
       "<style>\n",
       "    .dataframe thead tr:only-child th {\n",
       "        text-align: right;\n",
       "    }\n",
       "\n",
       "    .dataframe thead th {\n",
       "        text-align: left;\n",
       "    }\n",
       "\n",
       "    .dataframe tbody tr th {\n",
       "        vertical-align: top;\n",
       "    }\n",
       "</style>\n",
       "<table border=\"1\" class=\"dataframe\">\n",
       "  <thead>\n",
       "    <tr style=\"text-align: right;\">\n",
       "      <th></th>\n",
       "      <th>program_duration</th>\n",
       "      <th>test_id</th>\n",
       "      <th>difficulty_level</th>\n",
       "      <th>trainee_id</th>\n",
       "      <th>education</th>\n",
       "      <th>city_tier</th>\n",
       "      <th>total_programs_enrolled</th>\n",
       "      <th>Trainee_engagement_rating</th>\n",
       "      <th>Age</th>\n",
       "      <th>type_T</th>\n",
       "      <th>type_U</th>\n",
       "      <th>type_V</th>\n",
       "      <th>type_X</th>\n",
       "      <th>type_Y</th>\n",
       "      <th>type_Z</th>\n",
       "      <th>type_online</th>\n",
       "      <th>level_M</th>\n",
       "      <th>handicap_Y</th>\n",
       "    </tr>\n",
       "  </thead>\n",
       "  <tbody>\n",
       "    <tr>\n",
       "      <th>0</th>\n",
       "      <td>4.919981</td>\n",
       "      <td>5.017280</td>\n",
       "      <td>1.609438</td>\n",
       "      <td>9.147401</td>\n",
       "      <td>1.098612</td>\n",
       "      <td>1.386294</td>\n",
       "      <td>1.791759</td>\n",
       "      <td>0.693147</td>\n",
       "      <td>3.218876</td>\n",
       "      <td>0.000000</td>\n",
       "      <td>0.0</td>\n",
       "      <td>0.000000</td>\n",
       "      <td>0.0</td>\n",
       "      <td>0.693359</td>\n",
       "      <td>0.000000</td>\n",
       "      <td>0.000000</td>\n",
       "      <td>0.693359</td>\n",
       "      <td>0.0</td>\n",
       "    </tr>\n",
       "    <tr>\n",
       "      <th>1</th>\n",
       "      <td>4.882802</td>\n",
       "      <td>3.806662</td>\n",
       "      <td>0.693147</td>\n",
       "      <td>9.712569</td>\n",
       "      <td>1.386294</td>\n",
       "      <td>1.609438</td>\n",
       "      <td>1.098612</td>\n",
       "      <td>1.386294</td>\n",
       "      <td>3.295837</td>\n",
       "      <td>0.693359</td>\n",
       "      <td>0.0</td>\n",
       "      <td>0.000000</td>\n",
       "      <td>0.0</td>\n",
       "      <td>0.000000</td>\n",
       "      <td>0.000000</td>\n",
       "      <td>0.000000</td>\n",
       "      <td>0.000000</td>\n",
       "      <td>0.0</td>\n",
       "    </tr>\n",
       "    <tr>\n",
       "      <th>2</th>\n",
       "      <td>4.795791</td>\n",
       "      <td>5.187386</td>\n",
       "      <td>0.693147</td>\n",
       "      <td>9.545955</td>\n",
       "      <td>1.098612</td>\n",
       "      <td>0.693147</td>\n",
       "      <td>0.693147</td>\n",
       "      <td>1.098612</td>\n",
       "      <td>3.713572</td>\n",
       "      <td>0.000000</td>\n",
       "      <td>0.0</td>\n",
       "      <td>0.000000</td>\n",
       "      <td>0.0</td>\n",
       "      <td>0.000000</td>\n",
       "      <td>0.693359</td>\n",
       "      <td>0.693359</td>\n",
       "      <td>0.693359</td>\n",
       "      <td>0.0</td>\n",
       "    </tr>\n",
       "    <tr>\n",
       "      <th>3</th>\n",
       "      <td>4.770685</td>\n",
       "      <td>3.496508</td>\n",
       "      <td>0.693147</td>\n",
       "      <td>9.484861</td>\n",
       "      <td>1.098612</td>\n",
       "      <td>1.386294</td>\n",
       "      <td>1.609438</td>\n",
       "      <td>0.693147</td>\n",
       "      <td>3.555348</td>\n",
       "      <td>0.693359</td>\n",
       "      <td>0.0</td>\n",
       "      <td>0.000000</td>\n",
       "      <td>0.0</td>\n",
       "      <td>0.000000</td>\n",
       "      <td>0.000000</td>\n",
       "      <td>0.000000</td>\n",
       "      <td>0.000000</td>\n",
       "      <td>0.0</td>\n",
       "    </tr>\n",
       "    <tr>\n",
       "      <th>4</th>\n",
       "      <td>4.882802</td>\n",
       "      <td>4.442651</td>\n",
       "      <td>1.609438</td>\n",
       "      <td>9.267854</td>\n",
       "      <td>1.386294</td>\n",
       "      <td>0.693147</td>\n",
       "      <td>1.098612</td>\n",
       "      <td>1.609438</td>\n",
       "      <td>3.761200</td>\n",
       "      <td>0.000000</td>\n",
       "      <td>0.0</td>\n",
       "      <td>0.693359</td>\n",
       "      <td>0.0</td>\n",
       "      <td>0.000000</td>\n",
       "      <td>0.000000</td>\n",
       "      <td>0.000000</td>\n",
       "      <td>0.000000</td>\n",
       "      <td>0.0</td>\n",
       "    </tr>\n",
       "  </tbody>\n",
       "</table>\n",
       "</div>"
      ],
      "text/plain": [
       "   program_duration   test_id  difficulty_level  trainee_id  education  \\\n",
       "0          4.919981  5.017280          1.609438    9.147401   1.098612   \n",
       "1          4.882802  3.806662          0.693147    9.712569   1.386294   \n",
       "2          4.795791  5.187386          0.693147    9.545955   1.098612   \n",
       "3          4.770685  3.496508          0.693147    9.484861   1.098612   \n",
       "4          4.882802  4.442651          1.609438    9.267854   1.386294   \n",
       "\n",
       "   city_tier  total_programs_enrolled  Trainee_engagement_rating       Age  \\\n",
       "0   1.386294                 1.791759                   0.693147  3.218876   \n",
       "1   1.609438                 1.098612                   1.386294  3.295837   \n",
       "2   0.693147                 0.693147                   1.098612  3.713572   \n",
       "3   1.386294                 1.609438                   0.693147  3.555348   \n",
       "4   0.693147                 1.098612                   1.609438  3.761200   \n",
       "\n",
       "     type_T  type_U    type_V  type_X    type_Y    type_Z  type_online  \\\n",
       "0  0.000000     0.0  0.000000     0.0  0.693359  0.000000     0.000000   \n",
       "1  0.693359     0.0  0.000000     0.0  0.000000  0.000000     0.000000   \n",
       "2  0.000000     0.0  0.000000     0.0  0.000000  0.693359     0.693359   \n",
       "3  0.693359     0.0  0.000000     0.0  0.000000  0.000000     0.000000   \n",
       "4  0.000000     0.0  0.693359     0.0  0.000000  0.000000     0.000000   \n",
       "\n",
       "    level_M  handicap_Y  \n",
       "0  0.693359         0.0  \n",
       "1  0.000000         0.0  \n",
       "2  0.693359         0.0  \n",
       "3  0.000000         0.0  \n",
       "4  0.000000         0.0  "
      ]
     },
     "execution_count": 58,
     "metadata": {},
     "output_type": "execute_result"
    }
   ],
   "source": [
    "train_X.head()"
   ]
  },
  {
   "cell_type": "markdown",
   "metadata": {},
   "source": [
    "# \"\"\"\"\"\"doing something special\"\"\"\"\"\""
   ]
  },
  {
   "cell_type": "code",
   "execution_count": 59,
   "metadata": {
    "collapsed": true
   },
   "outputs": [],
   "source": [
    "# !!!!!!!!!!!!!!!!do not run it second time!!!!!!!!!!!!!!!!!!!\n",
    "dummy_train=train_X\n",
    "dummy_test=tests"
   ]
  },
  {
   "cell_type": "code",
   "execution_count": 70,
   "metadata": {
    "collapsed": true
   },
   "outputs": [],
   "source": [
    "train_X=dummy_train\n",
    "tests=dummy_test"
   ]
  },
  {
   "cell_type": "code",
   "execution_count": 71,
   "metadata": {},
   "outputs": [
    {
     "data": {
      "text/html": [
       "<div>\n",
       "<style>\n",
       "    .dataframe thead tr:only-child th {\n",
       "        text-align: right;\n",
       "    }\n",
       "\n",
       "    .dataframe thead th {\n",
       "        text-align: left;\n",
       "    }\n",
       "\n",
       "    .dataframe tbody tr th {\n",
       "        vertical-align: top;\n",
       "    }\n",
       "</style>\n",
       "<table border=\"1\" class=\"dataframe\">\n",
       "  <thead>\n",
       "    <tr style=\"text-align: right;\">\n",
       "      <th></th>\n",
       "      <th>program_duration</th>\n",
       "      <th>test_id</th>\n",
       "      <th>difficulty_level</th>\n",
       "      <th>trainee_id</th>\n",
       "      <th>education</th>\n",
       "      <th>city_tier</th>\n",
       "      <th>total_programs_enrolled</th>\n",
       "      <th>Trainee_engagement_rating</th>\n",
       "      <th>Age</th>\n",
       "      <th>type_T</th>\n",
       "      <th>type_U</th>\n",
       "      <th>type_V</th>\n",
       "      <th>type_X</th>\n",
       "      <th>type_Y</th>\n",
       "      <th>type_Z</th>\n",
       "      <th>type_online</th>\n",
       "      <th>level_M</th>\n",
       "      <th>handicap_Y</th>\n",
       "    </tr>\n",
       "  </thead>\n",
       "  <tbody>\n",
       "    <tr>\n",
       "      <th>0</th>\n",
       "      <td>4.919981</td>\n",
       "      <td>5.017280</td>\n",
       "      <td>1.609438</td>\n",
       "      <td>9.147401</td>\n",
       "      <td>1.098612</td>\n",
       "      <td>1.386294</td>\n",
       "      <td>1.791759</td>\n",
       "      <td>0.693147</td>\n",
       "      <td>3.218876</td>\n",
       "      <td>0.000000</td>\n",
       "      <td>0.0</td>\n",
       "      <td>0.000000</td>\n",
       "      <td>0.0</td>\n",
       "      <td>0.693359</td>\n",
       "      <td>0.000000</td>\n",
       "      <td>0.000000</td>\n",
       "      <td>0.693359</td>\n",
       "      <td>0.0</td>\n",
       "    </tr>\n",
       "    <tr>\n",
       "      <th>1</th>\n",
       "      <td>4.882802</td>\n",
       "      <td>3.806662</td>\n",
       "      <td>0.693147</td>\n",
       "      <td>9.712569</td>\n",
       "      <td>1.386294</td>\n",
       "      <td>1.609438</td>\n",
       "      <td>1.098612</td>\n",
       "      <td>1.386294</td>\n",
       "      <td>3.295837</td>\n",
       "      <td>0.693359</td>\n",
       "      <td>0.0</td>\n",
       "      <td>0.000000</td>\n",
       "      <td>0.0</td>\n",
       "      <td>0.000000</td>\n",
       "      <td>0.000000</td>\n",
       "      <td>0.000000</td>\n",
       "      <td>0.000000</td>\n",
       "      <td>0.0</td>\n",
       "    </tr>\n",
       "    <tr>\n",
       "      <th>2</th>\n",
       "      <td>4.795791</td>\n",
       "      <td>5.187386</td>\n",
       "      <td>0.693147</td>\n",
       "      <td>9.545955</td>\n",
       "      <td>1.098612</td>\n",
       "      <td>0.693147</td>\n",
       "      <td>0.693147</td>\n",
       "      <td>1.098612</td>\n",
       "      <td>3.713572</td>\n",
       "      <td>0.000000</td>\n",
       "      <td>0.0</td>\n",
       "      <td>0.000000</td>\n",
       "      <td>0.0</td>\n",
       "      <td>0.000000</td>\n",
       "      <td>0.693359</td>\n",
       "      <td>0.693359</td>\n",
       "      <td>0.693359</td>\n",
       "      <td>0.0</td>\n",
       "    </tr>\n",
       "    <tr>\n",
       "      <th>3</th>\n",
       "      <td>4.770685</td>\n",
       "      <td>3.496508</td>\n",
       "      <td>0.693147</td>\n",
       "      <td>9.484861</td>\n",
       "      <td>1.098612</td>\n",
       "      <td>1.386294</td>\n",
       "      <td>1.609438</td>\n",
       "      <td>0.693147</td>\n",
       "      <td>3.555348</td>\n",
       "      <td>0.693359</td>\n",
       "      <td>0.0</td>\n",
       "      <td>0.000000</td>\n",
       "      <td>0.0</td>\n",
       "      <td>0.000000</td>\n",
       "      <td>0.000000</td>\n",
       "      <td>0.000000</td>\n",
       "      <td>0.000000</td>\n",
       "      <td>0.0</td>\n",
       "    </tr>\n",
       "    <tr>\n",
       "      <th>4</th>\n",
       "      <td>4.882802</td>\n",
       "      <td>4.442651</td>\n",
       "      <td>1.609438</td>\n",
       "      <td>9.267854</td>\n",
       "      <td>1.386294</td>\n",
       "      <td>0.693147</td>\n",
       "      <td>1.098612</td>\n",
       "      <td>1.609438</td>\n",
       "      <td>3.761200</td>\n",
       "      <td>0.000000</td>\n",
       "      <td>0.0</td>\n",
       "      <td>0.693359</td>\n",
       "      <td>0.0</td>\n",
       "      <td>0.000000</td>\n",
       "      <td>0.000000</td>\n",
       "      <td>0.000000</td>\n",
       "      <td>0.000000</td>\n",
       "      <td>0.0</td>\n",
       "    </tr>\n",
       "  </tbody>\n",
       "</table>\n",
       "</div>"
      ],
      "text/plain": [
       "   program_duration   test_id  difficulty_level  trainee_id  education  \\\n",
       "0          4.919981  5.017280          1.609438    9.147401   1.098612   \n",
       "1          4.882802  3.806662          0.693147    9.712569   1.386294   \n",
       "2          4.795791  5.187386          0.693147    9.545955   1.098612   \n",
       "3          4.770685  3.496508          0.693147    9.484861   1.098612   \n",
       "4          4.882802  4.442651          1.609438    9.267854   1.386294   \n",
       "\n",
       "   city_tier  total_programs_enrolled  Trainee_engagement_rating       Age  \\\n",
       "0   1.386294                 1.791759                   0.693147  3.218876   \n",
       "1   1.609438                 1.098612                   1.386294  3.295837   \n",
       "2   0.693147                 0.693147                   1.098612  3.713572   \n",
       "3   1.386294                 1.609438                   0.693147  3.555348   \n",
       "4   0.693147                 1.098612                   1.609438  3.761200   \n",
       "\n",
       "     type_T  type_U    type_V  type_X    type_Y    type_Z  type_online  \\\n",
       "0  0.000000     0.0  0.000000     0.0  0.693359  0.000000     0.000000   \n",
       "1  0.693359     0.0  0.000000     0.0  0.000000  0.000000     0.000000   \n",
       "2  0.000000     0.0  0.000000     0.0  0.000000  0.693359     0.693359   \n",
       "3  0.693359     0.0  0.000000     0.0  0.000000  0.000000     0.000000   \n",
       "4  0.000000     0.0  0.693359     0.0  0.000000  0.000000     0.000000   \n",
       "\n",
       "    level_M  handicap_Y  \n",
       "0  0.693359         0.0  \n",
       "1  0.000000         0.0  \n",
       "2  0.693359         0.0  \n",
       "3  0.000000         0.0  \n",
       "4  0.000000         0.0  "
      ]
     },
     "execution_count": 71,
     "metadata": {},
     "output_type": "execute_result"
    }
   ],
   "source": [
    "train_X.head()"
   ]
  },
  {
   "cell_type": "code",
   "execution_count": 72,
   "metadata": {},
   "outputs": [],
   "source": [
    "#train_X= train_X[['trainee_id','test_id','Age','Trainee_engagement_rating','city_tier','level_M','total_programs_enrolled','type_online','difficulty_level','education','program_duration']]\n",
    "#tests=tests[['trainee_id','test_id','Age','Trainee_engagement_rating','city_tier','level_M','total_programs_enrolled','type_online','difficulty_level','education','program_duration']]"
   ]
  },
  {
   "cell_type": "code",
   "execution_count": null,
   "metadata": {
    "collapsed": true
   },
   "outputs": [],
   "source": []
  },
  {
   "cell_type": "markdown",
   "metadata": {},
   "source": [
    "# :::::::::::::::::::::::::::::: start testing our model ::::::::::::::::::::::::::::::::::"
   ]
  },
  {
   "cell_type": "code",
   "execution_count": 73,
   "metadata": {},
   "outputs": [],
   "source": [
    "from xgboost import XGBRegressor\n",
    "my_model = XGBRegressor(n_estimators=10000,early_stopping_rounds = 25,learning_rate=0.23)\n",
    "fit = my_model.fit(train_X,train_ys,verbose= False)\n",
    "predictions= my_model.predict(tests)"
   ]
  },
  {
   "cell_type": "code",
   "execution_count": 74,
   "metadata": {
    "collapsed": true
   },
   "outputs": [],
   "source": [
    "my_submission= pd.DataFrame({'id': testsa.id, 'is_pass':predictions})\n",
    "my_submission.to_csv('forfinal.csv',index= False)"
   ]
  },
  {
   "cell_type": "code",
   "execution_count": null,
   "metadata": {
    "collapsed": true
   },
   "outputs": [],
   "source": []
  },
  {
   "cell_type": "code",
   "execution_count": 76,
   "metadata": {},
   "outputs": [
    {
     "ename": "CatboostError",
     "evalue": "Invalid type for cat_feature[0,0]=4.91998092583 : cat_features must be integer or string, real number values and NaN values should be converted to string.",
     "output_type": "error",
     "traceback": [
      "\u001b[0;31m---------------------------------------------------------------------------\u001b[0m",
      "\u001b[0;31mCatboostError\u001b[0m                             Traceback (most recent call last)",
      "\u001b[0;32m<ipython-input-76-c215414ec0b5>\u001b[0m in \u001b[0;36m<module>\u001b[0;34m()\u001b[0m\n\u001b[1;32m     10\u001b[0m \u001b[0;34m\u001b[0m\u001b[0m\n\u001b[1;32m     11\u001b[0m \u001b[0mmodel\u001b[0m\u001b[0;34m=\u001b[0m\u001b[0mCatBoostClassifier\u001b[0m\u001b[0;34m(\u001b[0m\u001b[0miterations\u001b[0m\u001b[0;34m=\u001b[0m\u001b[0;36m1020\u001b[0m\u001b[0;34m,\u001b[0m \u001b[0mdepth\u001b[0m\u001b[0;34m=\u001b[0m\u001b[0;36m6\u001b[0m\u001b[0;34m,\u001b[0m \u001b[0mlearning_rate\u001b[0m\u001b[0;34m=\u001b[0m\u001b[0;36m0.06\u001b[0m\u001b[0;34m,\u001b[0m \u001b[0mloss_function\u001b[0m\u001b[0;34m=\u001b[0m \u001b[0;34m'Logloss'\u001b[0m\u001b[0;34m)\u001b[0m\u001b[0;34m\u001b[0m\u001b[0m\n\u001b[0;32m---> 12\u001b[0;31m \u001b[0mmodel\u001b[0m\u001b[0;34m.\u001b[0m\u001b[0mfit\u001b[0m\u001b[0;34m(\u001b[0m\u001b[0mX\u001b[0m\u001b[0;34m,\u001b[0m \u001b[0my\u001b[0m\u001b[0;34m,\u001b[0m\u001b[0mcat_features\u001b[0m\u001b[0;34m=\u001b[0m\u001b[0mcategorical_features_indices\u001b[0m\u001b[0;34m,\u001b[0m\u001b[0mplot\u001b[0m\u001b[0;34m=\u001b[0m\u001b[0mTrue\u001b[0m\u001b[0;34m)\u001b[0m\u001b[0;34m\u001b[0m\u001b[0m\n\u001b[0m\u001b[1;32m     13\u001b[0m \u001b[0;31m#model.fit(X_train, y_train,cat_features=categorical_features_indices,eval_set=(X_test,y_test),plot=True)\u001b[0m\u001b[0;34m\u001b[0m\u001b[0;34m\u001b[0m\u001b[0m\n\u001b[1;32m     14\u001b[0m \u001b[0;31m#pred=model.predict_proba(X_test)[:,1]\u001b[0m\u001b[0;34m\u001b[0m\u001b[0;34m\u001b[0m\u001b[0m\n",
      "\u001b[0;32m/home/abhiraj/anaconda2/lib/python2.7/site-packages/catboost/core.pyc\u001b[0m in \u001b[0;36mfit\u001b[0;34m(self, X, y, cat_features, sample_weight, baseline, use_best_model, eval_set, verbose, logging_level, plot, column_description, verbose_eval)\u001b[0m\n\u001b[1;32m   1682\u001b[0m         \u001b[0mmodel\u001b[0m \u001b[0;34m:\u001b[0m \u001b[0mCatBoost\u001b[0m\u001b[0;34m\u001b[0m\u001b[0m\n\u001b[1;32m   1683\u001b[0m         \"\"\"\n\u001b[0;32m-> 1684\u001b[0;31m         \u001b[0mself\u001b[0m\u001b[0;34m.\u001b[0m\u001b[0m_fit\u001b[0m\u001b[0;34m(\u001b[0m\u001b[0mX\u001b[0m\u001b[0;34m,\u001b[0m \u001b[0my\u001b[0m\u001b[0;34m,\u001b[0m \u001b[0mcat_features\u001b[0m\u001b[0;34m,\u001b[0m \u001b[0mNone\u001b[0m\u001b[0;34m,\u001b[0m \u001b[0msample_weight\u001b[0m\u001b[0;34m,\u001b[0m \u001b[0mNone\u001b[0m\u001b[0;34m,\u001b[0m \u001b[0mNone\u001b[0m\u001b[0;34m,\u001b[0m \u001b[0mNone\u001b[0m\u001b[0;34m,\u001b[0m \u001b[0mbaseline\u001b[0m\u001b[0;34m,\u001b[0m \u001b[0muse_best_model\u001b[0m\u001b[0;34m,\u001b[0m \u001b[0meval_set\u001b[0m\u001b[0;34m,\u001b[0m \u001b[0mverbose\u001b[0m\u001b[0;34m,\u001b[0m \u001b[0mlogging_level\u001b[0m\u001b[0;34m,\u001b[0m \u001b[0mplot\u001b[0m\u001b[0;34m,\u001b[0m \u001b[0mcolumn_description\u001b[0m\u001b[0;34m,\u001b[0m \u001b[0mverbose_eval\u001b[0m\u001b[0;34m)\u001b[0m\u001b[0;34m\u001b[0m\u001b[0m\n\u001b[0m\u001b[1;32m   1685\u001b[0m         \u001b[0;32mreturn\u001b[0m \u001b[0mself\u001b[0m\u001b[0;34m\u001b[0m\u001b[0m\n\u001b[1;32m   1686\u001b[0m \u001b[0;34m\u001b[0m\u001b[0m\n",
      "\u001b[0;32m/home/abhiraj/anaconda2/lib/python2.7/site-packages/catboost/core.pyc\u001b[0m in \u001b[0;36m_fit\u001b[0;34m(self, X, y, cat_features, pairs, sample_weight, group_id, subgroup_id, pairs_weight, baseline, use_best_model, eval_set, verbose, logging_level, plot, column_description, verbose_eval)\u001b[0m\n\u001b[1;32m    750\u001b[0m             \u001b[0mparams\u001b[0m\u001b[0;34m[\u001b[0m\u001b[0;34m'use_best_model'\u001b[0m\u001b[0;34m]\u001b[0m \u001b[0;34m=\u001b[0m \u001b[0muse_best_model\u001b[0m\u001b[0;34m\u001b[0m\u001b[0m\n\u001b[1;32m    751\u001b[0m \u001b[0;34m\u001b[0m\u001b[0m\n\u001b[0;32m--> 752\u001b[0;31m         \u001b[0mtrain_pool\u001b[0m \u001b[0;34m=\u001b[0m \u001b[0m_build_train_pool\u001b[0m\u001b[0;34m(\u001b[0m\u001b[0mX\u001b[0m\u001b[0;34m,\u001b[0m \u001b[0my\u001b[0m\u001b[0;34m,\u001b[0m \u001b[0mcat_features\u001b[0m\u001b[0;34m,\u001b[0m \u001b[0mpairs\u001b[0m\u001b[0;34m,\u001b[0m \u001b[0msample_weight\u001b[0m\u001b[0;34m,\u001b[0m \u001b[0mgroup_id\u001b[0m\u001b[0;34m,\u001b[0m \u001b[0msubgroup_id\u001b[0m\u001b[0;34m,\u001b[0m \u001b[0mpairs_weight\u001b[0m\u001b[0;34m,\u001b[0m \u001b[0mbaseline\u001b[0m\u001b[0;34m,\u001b[0m \u001b[0mcolumn_description\u001b[0m\u001b[0;34m)\u001b[0m\u001b[0;34m\u001b[0m\u001b[0m\n\u001b[0m\u001b[1;32m    753\u001b[0m         \u001b[0;32mif\u001b[0m \u001b[0mtrain_pool\u001b[0m\u001b[0;34m.\u001b[0m\u001b[0mis_empty_\u001b[0m\u001b[0;34m:\u001b[0m\u001b[0;34m\u001b[0m\u001b[0m\n\u001b[1;32m    754\u001b[0m             \u001b[0;32mraise\u001b[0m \u001b[0mCatboostError\u001b[0m\u001b[0;34m(\u001b[0m\u001b[0;34m\"X is empty.\"\u001b[0m\u001b[0;34m)\u001b[0m\u001b[0;34m\u001b[0m\u001b[0m\n",
      "\u001b[0;32m/home/abhiraj/anaconda2/lib/python2.7/site-packages/catboost/core.pyc\u001b[0m in \u001b[0;36m_build_train_pool\u001b[0;34m(X, y, cat_features, pairs, sample_weight, group_id, subgroup_id, pairs_weight, baseline, column_description)\u001b[0m\n\u001b[1;32m    552\u001b[0m             \u001b[0;32mraise\u001b[0m \u001b[0mCatboostError\u001b[0m\u001b[0;34m(\u001b[0m\u001b[0;34m\"y has not initialized in fit(): X is not catboost.Pool object, y must be not None in fit().\"\u001b[0m\u001b[0;34m)\u001b[0m\u001b[0;34m\u001b[0m\u001b[0m\n\u001b[1;32m    553\u001b[0m         train_pool = Pool(X, y, cat_features=cat_features, pairs=pairs, weight=sample_weight, group_id=group_id,\n\u001b[0;32m--> 554\u001b[0;31m                           subgroup_id=subgroup_id, pairs_weight=pairs_weight, baseline=baseline)\n\u001b[0m\u001b[1;32m    555\u001b[0m     \u001b[0;32mreturn\u001b[0m \u001b[0mtrain_pool\u001b[0m\u001b[0;34m\u001b[0m\u001b[0m\n\u001b[1;32m    556\u001b[0m \u001b[0;34m\u001b[0m\u001b[0m\n",
      "\u001b[0;32m/home/abhiraj/anaconda2/lib/python2.7/site-packages/catboost/core.pyc\u001b[0m in \u001b[0;36m__init__\u001b[0;34m(self, data, label, cat_features, column_description, pairs, delimiter, has_header, weight, group_id, subgroup_id, pairs_weight, baseline, feature_names, thread_count)\u001b[0m\n\u001b[1;32m    221\u001b[0m                 \u001b[0mself\u001b[0m\u001b[0;34m.\u001b[0m\u001b[0m_read\u001b[0m\u001b[0;34m(\u001b[0m\u001b[0mdata\u001b[0m\u001b[0;34m,\u001b[0m \u001b[0mcolumn_description\u001b[0m\u001b[0;34m,\u001b[0m \u001b[0mpairs\u001b[0m\u001b[0;34m,\u001b[0m \u001b[0mdelimiter\u001b[0m\u001b[0;34m,\u001b[0m \u001b[0mhas_header\u001b[0m\u001b[0;34m,\u001b[0m \u001b[0mthread_count\u001b[0m\u001b[0;34m)\u001b[0m\u001b[0;34m\u001b[0m\u001b[0m\n\u001b[1;32m    222\u001b[0m             \u001b[0;32melse\u001b[0m\u001b[0;34m:\u001b[0m\u001b[0;34m\u001b[0m\u001b[0m\n\u001b[0;32m--> 223\u001b[0;31m                 \u001b[0mself\u001b[0m\u001b[0;34m.\u001b[0m\u001b[0m_init\u001b[0m\u001b[0;34m(\u001b[0m\u001b[0mdata\u001b[0m\u001b[0;34m,\u001b[0m \u001b[0mlabel\u001b[0m\u001b[0;34m,\u001b[0m \u001b[0mcat_features\u001b[0m\u001b[0;34m,\u001b[0m \u001b[0mpairs\u001b[0m\u001b[0;34m,\u001b[0m \u001b[0mweight\u001b[0m\u001b[0;34m,\u001b[0m \u001b[0mgroup_id\u001b[0m\u001b[0;34m,\u001b[0m \u001b[0msubgroup_id\u001b[0m\u001b[0;34m,\u001b[0m \u001b[0mpairs_weight\u001b[0m\u001b[0;34m,\u001b[0m \u001b[0mbaseline\u001b[0m\u001b[0;34m,\u001b[0m \u001b[0mfeature_names\u001b[0m\u001b[0;34m)\u001b[0m\u001b[0;34m\u001b[0m\u001b[0m\n\u001b[0m\u001b[1;32m    224\u001b[0m         \u001b[0msuper\u001b[0m\u001b[0;34m(\u001b[0m\u001b[0mPool\u001b[0m\u001b[0;34m,\u001b[0m \u001b[0mself\u001b[0m\u001b[0;34m)\u001b[0m\u001b[0;34m.\u001b[0m\u001b[0m__init__\u001b[0m\u001b[0;34m(\u001b[0m\u001b[0;34m)\u001b[0m\u001b[0;34m\u001b[0m\u001b[0m\n\u001b[1;32m    225\u001b[0m \u001b[0;34m\u001b[0m\u001b[0m\n",
      "\u001b[0;32m/home/abhiraj/anaconda2/lib/python2.7/site-packages/catboost/core.pyc\u001b[0m in \u001b[0;36m_init\u001b[0;34m(self, data_matrix, label, cat_features, pairs, weight, group_id, subgroup_id, pairs_weight, baseline, feature_names)\u001b[0m\n\u001b[1;32m    533\u001b[0m         \u001b[0;32mif\u001b[0m \u001b[0mfeature_names\u001b[0m \u001b[0;32mis\u001b[0m \u001b[0;32mnot\u001b[0m \u001b[0mNone\u001b[0m\u001b[0;34m:\u001b[0m\u001b[0;34m\u001b[0m\u001b[0m\n\u001b[1;32m    534\u001b[0m             \u001b[0mself\u001b[0m\u001b[0;34m.\u001b[0m\u001b[0m_check_feature_names\u001b[0m\u001b[0;34m(\u001b[0m\u001b[0mfeature_names\u001b[0m\u001b[0;34m,\u001b[0m \u001b[0mfeatures_count\u001b[0m\u001b[0;34m)\u001b[0m\u001b[0;34m\u001b[0m\u001b[0m\n\u001b[0;32m--> 535\u001b[0;31m         \u001b[0mself\u001b[0m\u001b[0;34m.\u001b[0m\u001b[0m_init_pool\u001b[0m\u001b[0;34m(\u001b[0m\u001b[0mdata_matrix\u001b[0m\u001b[0;34m,\u001b[0m \u001b[0mlabel\u001b[0m\u001b[0;34m,\u001b[0m \u001b[0mcat_features\u001b[0m\u001b[0;34m,\u001b[0m \u001b[0mpairs\u001b[0m\u001b[0;34m,\u001b[0m \u001b[0mweight\u001b[0m\u001b[0;34m,\u001b[0m \u001b[0mgroup_id\u001b[0m\u001b[0;34m,\u001b[0m \u001b[0msubgroup_id\u001b[0m\u001b[0;34m,\u001b[0m \u001b[0mpairs_weight\u001b[0m\u001b[0;34m,\u001b[0m \u001b[0mbaseline\u001b[0m\u001b[0;34m,\u001b[0m \u001b[0mfeature_names\u001b[0m\u001b[0;34m)\u001b[0m\u001b[0;34m\u001b[0m\u001b[0m\n\u001b[0m\u001b[1;32m    536\u001b[0m \u001b[0;34m\u001b[0m\u001b[0m\n\u001b[1;32m    537\u001b[0m \u001b[0;34m\u001b[0m\u001b[0m\n",
      "\u001b[0;32m_catboost.pyx\u001b[0m in \u001b[0;36m_catboost._PoolBase._init_pool\u001b[0;34m()\u001b[0m\n",
      "\u001b[0;32m_catboost.pyx\u001b[0m in \u001b[0;36m_catboost._PoolBase._init_pool\u001b[0;34m()\u001b[0m\n",
      "\u001b[0;32m_catboost.pyx\u001b[0m in \u001b[0;36m_catboost._PoolBase._set_data\u001b[0;34m()\u001b[0m\n",
      "\u001b[0;31mCatboostError\u001b[0m: Invalid type for cat_feature[0,0]=4.91998092583 : cat_features must be integer or string, real number values and NaN values should be converted to string."
     ]
    }
   ],
   "source": [
    "#define X and y\n",
    "X = train_X\n",
    "y = train_ys\n",
    "\n",
    "\n",
    "#train catboost model with categorical features on X,y\n",
    "from sklearn.metrics import roc_auc_score\n",
    "from catboost import CatBoostClassifier\n",
    "categorical_features_indices = [0,1,2,3,4,5,6,7,8,9,10,11,12,13]\n",
    "\n",
    "model=CatBoostClassifier(iterations=1020, depth=6, learning_rate=0.06, loss_function= 'Logloss')\n",
    "model.fit(X, y,cat_features=categorical_features_indices,plot=True)\n",
    "#model.fit(X_train, y_train,cat_features=categorical_features_indices,eval_set=(X_test,y_test),plot=True)\n",
    "#pred=model.predict_proba(X_test)[:,1]\n",
    "#score = roc_auc_score(y_test,pred)\n",
    "#print('roc_auc_score',score)\n",
    "\n",
    "#predict probabilities of is_pass\n",
    "pred=model.predict_proba(tests)[:,1]\n",
    "\n"
   ]
  },
  {
   "cell_type": "code",
   "execution_count": null,
   "metadata": {
    "collapsed": true
   },
   "outputs": [],
   "source": [
    "my_submission= pd.DataFrame({'id': testsa.id, 'is_pass':predictions})\n",
    "my_submission.to_csv('forfinal.csv',index= False)"
   ]
  }
 ],
 "metadata": {
  "kernelspec": {
   "display_name": "Python 2",
   "language": "python",
   "name": "python2"
  },
  "language_info": {
   "codemirror_mode": {
    "name": "ipython",
    "version": 2
   },
   "file_extension": ".py",
   "mimetype": "text/x-python",
   "name": "python",
   "nbconvert_exporter": "python",
   "pygments_lexer": "ipython2",
   "version": "2.7.14"
  }
 },
 "nbformat": 4,
 "nbformat_minor": 2
}
